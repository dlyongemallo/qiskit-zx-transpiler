{
 "cells": [
  {
   "cell_type": "code",
   "execution_count": null,
   "id": "e4bc043c-b7a5-430f-83b4-0237a45ff234",
   "metadata": {},
   "outputs": [],
   "source": [
    "from qiskit.circuit import QuantumCircuit\n",
    "from qiskit.converters import circuit_to_dag\n",
    "from qiskit.visualization import dag_drawer\n",
    "import numpy as np"
   ]
  },
  {
   "cell_type": "code",
   "execution_count": null,
   "id": "472bf103-c014-4973-80ba-e28a3e1dfcd5",
   "metadata": {},
   "outputs": [],
   "source": [
    "# Taken from https://github.com/Quantomatic/pyzx/blob/master/circuits/Fast/mod5_4_before\n",
    "qc = QuantumCircuit(5)\n",
    "qc.x(4)\n",
    "qc.h(4)\n",
    "qc.ccz(0, 3, 4)\n",
    "qc.ccz(2, 3, 4)\n",
    "qc.h(4)\n",
    "qc.cx(3, 4)\n",
    "qc.h(4)\n",
    "qc.ccz(1, 2, 4)\n",
    "qc.h(4)\n",
    "qc.cx(2, 4)\n",
    "qc.h(4)\n",
    "qc.ccz(0, 1, 4)\n",
    "qc.h(4)\n",
    "qc.cx(1, 4)\n",
    "qc.cx(0, 4)\n",
    "\n",
    "qc.draw(output='mpl', style='clifford')"
   ]
  },
  {
   "cell_type": "code",
   "execution_count": null,
   "id": "6ca40a08-94b1-40a2-bdd4-2247a4769268",
   "metadata": {},
   "outputs": [],
   "source": [
    "dag = circuit_to_dag(qc)\n",
    "dag_drawer(dag)"
   ]
  },
  {
   "cell_type": "code",
   "execution_count": null,
   "id": "90d610a3-9373-4268-9ed3-c131a9182d17",
   "metadata": {},
   "outputs": [],
   "source": [
    "from qiskit.transpiler import PassManager\n",
    "from zxpass import ZXPass\n",
    "\n",
    "zxpass = ZXPass()\n",
    "pass_manager = PassManager(zxpass)"
   ]
  },
  {
   "cell_type": "code",
   "execution_count": null,
   "id": "94b23a86-8fcf-4497-8f67-bece91e98d1a",
   "metadata": {},
   "outputs": [],
   "source": [
    "zx_qc = pass_manager.run(qc)\n",
    "zx_qc.draw(output='mpl', style='clifford')"
   ]
  },
  {
   "cell_type": "code",
   "execution_count": null,
   "id": "70faf438-8908-4bca-8f0c-3d2ff1f6fa2f",
   "metadata": {},
   "outputs": [],
   "source": [
    "from qiskit import transpile\n",
    "opt_qc = transpile(qc, basis_gates=['u3', 'cx'], optimization_level=3)\n",
    "opt_qc.draw(output='mpl', style='clifford')"
   ]
  },
  {
   "cell_type": "code",
   "execution_count": null,
   "id": "d8d20fc3-5358-450c-a427-20ba54da7022",
   "metadata": {},
   "outputs": [],
   "source": [
    "from qiskit.quantum_info import Statevector\n",
    "print(\"original circuit depth: \", qc.depth())\n",
    "print(\"transpiled circuit depth: \", opt_qc.depth())\n",
    "print(\"PyZX circuit depth: \", zx_qc.depth())\n",
    "print(Statevector.from_instruction(qc).equiv(Statevector.from_instruction(zx_qc)))"
   ]
  }
 ],
 "metadata": {
  "kernelspec": {
   "display_name": "Python 3 (ipykernel)",
   "language": "python",
   "name": "python3"
  },
  "language_info": {
   "codemirror_mode": {
    "name": "ipython",
    "version": 3
   },
   "file_extension": ".py",
   "mimetype": "text/x-python",
   "name": "python",
   "nbconvert_exporter": "python",
   "pygments_lexer": "ipython3",
   "version": "3.10.12"
  }
 },
 "nbformat": 4,
 "nbformat_minor": 5
}
