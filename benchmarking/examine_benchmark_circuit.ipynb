{
 "cells": [
  {
   "cell_type": "markdown",
   "id": "c47e82450536790",
   "metadata": {},
   "source": [
    "# Examine a benchmark circuit"
   ]
  },
  {
   "cell_type": "code",
   "execution_count": null,
   "id": "ea63009fdedee2be",
   "metadata": {
    "ExecuteTime": {
     "end_time": "2024-05-09T08:01:15.907442Z",
     "start_time": "2024-05-09T08:01:15.904251Z"
    }
   },
   "outputs": [],
   "source": [
    "import sys; sys.path.append('..')\n",
    "from qiskit import transpile\n",
    "from qiskit.circuit import QuantumCircuit\n",
    "from qiskit.transpiler import PassManager\n",
    "from qiskit.qasm2 import dumps\n",
    "from qiskit.qasm3 import dumps as dumps3\n",
    "\n",
    "import pyzx as zx\n",
    "\n",
    "from zxpass import ZXPass\n",
    "pass_manager = PassManager(ZXPass())"
   ]
  },
  {
   "cell_type": "code",
   "execution_count": null,
   "id": "eb6c028018ec51bf",
   "metadata": {
    "ExecuteTime": {
     "end_time": "2024-05-09T08:01:16.347570Z",
     "start_time": "2024-05-09T08:01:16.345351Z"
    }
   },
   "outputs": [],
   "source": [
    "# Select the benchmark circuit to examine.\n",
    "subdir = \"medium\"\n",
    "circuit_name = \"qft_n18\""
   ]
  },
  {
   "cell_type": "code",
   "execution_count": null,
   "id": "bc1ee99eddf7d10a",
   "metadata": {
    "ExecuteTime": {
     "end_time": "2024-05-09T08:01:16.860099Z",
     "start_time": "2024-05-09T08:01:16.764935Z"
    }
   },
   "outputs": [],
   "source": [
    "# Output the original circuit.\n",
    "with open(f\"QASMBench/{subdir}/{circuit_name}/{circuit_name}.qasm\", \"r\") as file:\n",
    "    qasm_str = file.read()\n",
    "\n",
    "print(f\"Benchmark circuit: {circuit_name}\")\n",
    "qc = QuantumCircuit.from_qasm_str(qasm_str)\n",
    "# qc.draw(output=\"mpl\")"
   ]
  },
  {
   "cell_type": "code",
   "execution_count": null,
   "id": "fb6f6892fc52b6a3",
   "metadata": {
    "ExecuteTime": {
     "end_time": "2024-05-09T08:01:43.409315Z",
     "start_time": "2024-05-09T08:01:43.269068Z"
    }
   },
   "outputs": [],
   "source": [
    "# Output the ZX diagram for the original circuit.\n",
    "g = zx.Circuit.from_qasm(qasm_str).to_graph()\n",
    "zx.draw(g)"
   ]
  },
  {
   "cell_type": "code",
   "execution_count": null,
   "id": "a262d36da30c0606",
   "metadata": {
    "ExecuteTime": {
     "end_time": "2024-05-09T03:44:47.763594Z",
     "start_time": "2024-05-09T03:44:47.528842Z"
    }
   },
   "outputs": [],
   "source": [
    "# Output the circuit produced by Qiskit optimisation.\n",
    "opt_qc = transpile(qc, basis_gates=['u3', 'cx'], optimization_level=3)\n",
    "# opt_qc.draw(output=\"mpl\")"
   ]
  },
  {
   "cell_type": "code",
   "execution_count": null,
   "id": "5995d4768013540b",
   "metadata": {
    "ExecuteTime": {
     "end_time": "2024-05-09T03:45:03.565855Z",
     "start_time": "2024-05-09T03:45:03.525659Z"
    }
   },
   "outputs": [],
   "source": [
    "# Output the ZX diagram for the Qiskit-optimised circuit.\n",
    "opt_g = zx.Circuit.from_qasm(dumps3(opt_qc)).to_graph()\n",
    "zx.draw(opt_g)"
   ]
  },
  {
   "cell_type": "code",
   "execution_count": null,
   "id": "c15cf3c9aba3385e",
   "metadata": {
    "ExecuteTime": {
     "end_time": "2024-05-08T20:45:41.788033Z",
     "start_time": "2024-05-08T20:45:41.263991Z"
    }
   },
   "outputs": [],
   "source": [
    "# Output the ZX-optimised circuit.\n",
    "zx_qc = pass_manager.run(qc)\n",
    "# zx_qc.draw(output=\"mpl\")"
   ]
  },
  {
   "cell_type": "code",
   "execution_count": null,
   "id": "a2f11fbc5e281197",
   "metadata": {},
   "outputs": [],
   "source": [
    "# Re-create the graph from the circuit.\n",
    "zx_g = zx.Circuit.from_qasm(dumps(zx_qc)).to_graph()\n",
    "zx.draw(zx_g)"
   ]
  },
  {
   "cell_type": "code",
   "execution_count": null,
   "id": "1c495f0e-6265-4f61-bf00-fcdd2fec034a",
   "metadata": {},
   "outputs": [],
   "source": []
  }
 ],
 "metadata": {
  "kernelspec": {
   "display_name": "Python 3 (ipykernel)",
   "language": "python",
   "name": "python3"
  },
  "language_info": {
   "codemirror_mode": {
    "name": "ipython",
    "version": 3
   },
   "file_extension": ".py",
   "mimetype": "text/x-python",
   "name": "python",
   "nbconvert_exporter": "python",
   "pygments_lexer": "ipython3",
   "version": "3.10.12"
  }
 },
 "nbformat": 4,
 "nbformat_minor": 5
}
